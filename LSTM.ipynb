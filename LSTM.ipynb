{
 "cells": [
  {
   "cell_type": "code",
   "id": "initial_id",
   "metadata": {
    "collapsed": true
   },
   "source": [
    "import os\n",
    "import sys\n",
    "from cProfile import label\n",
    "\n",
    "from typing import Any\n",
    "\n",
    "import  paddle\n",
    "import numpy as np\n",
    "import  matplotlib.pyplot as plt\n",
    "from fontTools.misc.plistlib import end_dict\n",
    "from pygments.lexer import words\n",
    "\n",
    "from simple_nn_framework.simple_nn.example import accuracies, losses\n",
    "\n",
    "print(paddle.__version__)"
   ],
   "outputs": [],
   "execution_count": null
  },
  {
   "metadata": {
    "ExecuteTime": {
     "end_time": "2025-07-08T14:30:18.672273Z",
     "start_time": "2025-07-08T14:30:18.329980Z"
    }
   },
   "cell_type": "code",
   "source": [
    "import  io\n",
    "import os\n",
    "import random\n",
    "import  json\n",
    "# 谣言数据集路径\n",
    "rumor_class_dirs=os.listdir(\"./dataset/Chinese_Rumor_Dataset-master/CED_Dataset/rumor-repost/\")\n",
    "# 非谣言数据集路径\n",
    "non_rumor_class_dirs=os.listdir(\"./dataset/Chinese_Rumor_Dataset-master/CED_Dataset/non-rumor-repost/\")\n",
    "# 原始微博数据集路径\n",
    "original_microblog=\"./dataset/Chinese_Rumor_Dataset-master/CED_Dataset/original-microblog/\"\n",
    "\n",
    "# 谣言标签设置为0非谣言标签设置为1\n",
    "rumor_label=\"0\"\n",
    "non_rumor_label=\"1\"\n",
    "\n",
    "#统计谣言数据与非谣言数据总数\n",
    "rumor_num=0\n",
    "non_rumor_num=0\n",
    "\n",
    "all_rumor_list=[]\n",
    "all_non_rumor_list=[]\n",
    "\n",
    "# 解析谣言数据\n",
    "for  rumor_class_dir in rumor_class_dirs:\n",
    "    if rumor_class_dir.endswith(\".json\"):\n",
    "        with open(original_microblog+rumor_class_dir, \"r\", encoding=\"utf-8\") as f:\n",
    "            rumor_content=f.read()\n",
    "        rumor_dict=json.loads(rumor_content)\n",
    "        all_rumor_list.append(rumor_label+\"\\t\"+rumor_dict[\"text\"]+\"\\n\")\n",
    "        rumor_num+=1\n",
    "        \n",
    "#解析非谣言数据\n",
    "for  non_rumor_class_dir in non_rumor_class_dirs:\n",
    "    if non_rumor_class_dir.endswith(\".json\"):\n",
    "        with open(original_microblog+non_rumor_class_dir, \"r\", encoding=\"utf-8\") as f2:\n",
    "            non_rumor_content=f2.read()\n",
    "        non_rumor_dict=json.loads(non_rumor_content)\n",
    "        all_non_rumor_list.append(non_rumor_label+\"\\t\"+non_rumor_dict[\"text\"]+\"\\n\")\n",
    "        non_rumor_num+=1\n",
    "            \n",
    "print(\"谣言数据总数为：\",str(rumor_num))\n",
    "print(\"非谣言数据总数为：\",str(non_rumor_num))\n",
    "        "
   ],
   "id": "dda9e968f1fa9823",
   "outputs": [
    {
     "name": "stdout",
     "output_type": "stream",
     "text": [
      "谣言数据总数为： 1538\n",
      "非谣言数据总数为： 1849\n"
     ]
    }
   ],
   "execution_count": 83
  },
  {
   "metadata": {
    "ExecuteTime": {
     "end_time": "2025-07-08T14:30:28.116789Z",
     "start_time": "2025-07-08T14:30:28.093407Z"
    }
   },
   "cell_type": "code",
   "source": [
    "#数据乱序写入all_data.txt文件\n",
    "data_list_path=\"./dataset/Chinese_Rumor_Dataset-master/CED_Dataset/\"\n",
    "all_data_path=data_list_path+\"all_data.txt\"\n",
    "\n",
    "all_data_list=all_rumor_list+all_non_rumor_list\n",
    "random.seed(42)  # 设置种子\n",
    "\n",
    "random.shuffle(all_data_list)\n",
    "\n",
    "with open(all_data_path, \"w\", encoding=\"utf-8\") as f3:\n",
    "    f3.seek(0)\n",
    "    f3.truncate() #清空文件 all_data_path 的所有内容\n",
    "\n",
    "with open(all_data_path, \"a\", encoding=\"utf-8\") as f33:\n",
    "    for data in all_data_list:\n",
    "        f33.write(data)\n"
   ],
   "id": "911e51cc08192b15",
   "outputs": [],
   "execution_count": 85
  },
  {
   "metadata": {
    "ExecuteTime": {
     "end_time": "2025-07-08T14:30:29.770337Z",
     "start_time": "2025-07-08T14:30:29.749333Z"
    }
   },
   "cell_type": "code",
   "source": [
    "#生成数据字典\n",
    "def create_dict(data_path,dict_path):\n",
    "    # 创建目录（如果不存在）\n",
    "  os.makedirs(os.path.dirname(dict_path), exist_ok=True)\n",
    "  with open(dict_path , \"w\", encoding=\"utf-8\") as f4:\n",
    "      f4.seek(0)\n",
    "      f4.truncate()\n",
    "  dict_set=set()\n",
    " #读取全部数据\n",
    "  with open(data_path, \"r\", encoding=\"utf-8\") as f5:\n",
    "   lines=f5.readlines()\n",
    "   for line in lines:\n",
    "       content=line.split(\"\\t\")[-1].replace('\\n','')\n",
    "       for s in content:\n",
    "           dict_set.add(s)\n",
    "   #把元组转换成字典，一个字对应一个数字\n",
    "   dict_list=[]\n",
    "   i=0\n",
    "   for s in dict_set:\n",
    "       dict_list.append([s,i])\n",
    "       i+=1\n",
    "    #添加未知字符\n",
    "   dict_txt=dict(dict_list)\n",
    "   end_dict={\"<unk>\":i}\n",
    "   dict_txt.update(end_dict)\n",
    "   end_dict={\"<pad>\":i+1}\n",
    "   dict_txt.update(end_dict)\n",
    "   \n",
    "   #把字典写入文件\n",
    "   with open(dict_path, \"w\", encoding=\"utf-8\") as f6:\n",
    "       f6.write(str(dict_txt))\n",
    "       \n",
    "   print(\"字典生成完毕！\")"
   ],
   "id": "35595009f1829d41",
   "outputs": [],
   "execution_count": 86
  },
  {
   "metadata": {
    "ExecuteTime": {
     "end_time": "2025-07-08T14:30:31.788322Z",
     "start_time": "2025-07-08T14:30:31.774582Z"
    }
   },
   "cell_type": "code",
   "source": [
    "#创建序列化数据，划分训练集验证集\n",
    "def create_data_list(data_list_path):\n",
    "    \n",
    "    # 清空验证集\n",
    "    with open (os.path.join(data_list_path,\"eval_list.txt\"),'w',encoding=\"utf-8\") as f7:\n",
    "        f7.seek(0)\n",
    "        f7.truncate()\n",
    "    # 清空训练集\n",
    "    with open (os.path.join(data_list_path,\"train_list.txt\"),'w',encoding=\"utf-8\") as f8:\n",
    "        f8.seek(0)\n",
    "        f8.truncate()\n",
    "    \n",
    "    with open (os.path.join(data_list_path,\"dict.txt\"),'r',encoding=\"utf-8\") as f9:\n",
    "         dict_txt=eval(f9.readline())\n",
    "    \n",
    "    with open(os.path.join(data_list_path,\"all_data.txt\"),'r',encoding=\"utf-8\") as f10:\n",
    "        lines=f10.readlines()\n",
    " \n",
    "    i=0\n",
    "    maxlen=0\n",
    "    with open (os.path.join(data_list_path,\"train_list.txt\"),'a',encoding=\"utf-8\") as f11, open (os.path.join(data_list_path,\"eval_list.txt\"),'a',encoding=\"utf-8\") as f12:\n",
    "        for line in lines:\n",
    "            words=line.split('\\t')[-1].replace('\\n','')\n",
    "            maxlen=max(maxlen,len(words))\n",
    "            label=line.split('\\t')[0]\n",
    "            labs=\"\"\n",
    "#            每八个抽取一个作为验证\n",
    "            if i%8==0:\n",
    "                for s in words :\n",
    "                    lab=str(dict_txt[s])\n",
    "                    labs=labs+lab+','\n",
    "                labs=labs[:-1]\n",
    "                labs=labs+'\\t'+label+'\\n'\n",
    "                f12.write(labs)#验证\n",
    "            else:\n",
    "                for s in words :\n",
    "                    lab=str(dict_txt[s])\n",
    "                    labs=labs+lab+','\n",
    "                labs=labs[:-1]\n",
    "                labs=labs+'\\t'+label+'\\n'\n",
    "                f11.write(labs)#训练\n",
    "            i=i+1\n",
    "            \n",
    "    print(\"数据列表生成完毕\")\n",
    "    print(maxlen)"
   ],
   "id": "76afa0153b533820",
   "outputs": [],
   "execution_count": 87
  },
  {
   "metadata": {
    "ExecuteTime": {
     "end_time": "2025-07-08T14:30:34.368459Z",
     "start_time": "2025-07-08T14:30:34.144134Z"
    }
   },
   "cell_type": "code",
   "source": [
    "data_root_path = './dataset/Chinese_Rumor_Dataset-master/CED_Dataset/'\n",
    "data_path=os.path.join(data_root_path,'all_data.txt')\n",
    "dict_path=os.path.join(data_root_path,'dict.txt')\n",
    "create_dict(data_path, dict_path)\n",
    "create_data_list(data_root_path)\n",
    "\n"
   ],
   "id": "f5bddef9bded15f5",
   "outputs": [
    {
     "name": "stdout",
     "output_type": "stream",
     "text": [
      "字典生成完毕！\n",
      "数据列表生成完毕\n",
      "226\n"
     ]
    }
   ],
   "execution_count": 88
  },
  {
   "metadata": {
    "ExecuteTime": {
     "end_time": "2025-07-08T14:30:35.973775Z",
     "start_time": "2025-07-08T14:30:35.966334Z"
    }
   },
   "cell_type": "code",
   "source": [
    "def load_vocab(file_path):\n",
    "    fr=open(file_path,'r',encoding='utf-8')\n",
    "    vocab=eval(fr.read())\n",
    "    fr.close()\n",
    "    \n",
    "    return vocab"
   ],
   "id": "6714b57875232e52",
   "outputs": [],
   "execution_count": 89
  },
  {
   "metadata": {
    "ExecuteTime": {
     "end_time": "2025-07-08T14:30:37.331067Z",
     "start_time": "2025-07-08T14:30:37.297582Z"
    }
   },
   "cell_type": "code",
   "source": [
    "#打印前2条训练数据\n",
    "vocab=load_vocab('./dataset/Chinese_Rumor_Dataset-master/CED_Dataset/dict.txt')\n",
    "\n",
    "def ids_to_str(ids):\n",
    "    words=[]\n",
    "    for id in ids:\n",
    "        w=list(vocab.keys())[list(vocab.values()).index(int(id))]\n",
    "        words.append(w if isinstance(w,str) else w.decode('ASCII'))\n",
    "    return \" \".join(words)\n",
    "file_path='./dataset/Chinese_Rumor_Dataset-master/CED_Dataset/train_LIST.txt'\n",
    "with io.open(file_path,'r',encoding='utf-8') as fin:\n",
    "    i=0\n",
    "    for line in fin:\n",
    "        i=i+1\n",
    "        cols=line.strip().split('\\t')\n",
    "        if len(cols)!=2:\n",
    "            sys.stderr.write(\"ERROR\")\n",
    "            continue\n",
    "        label=int(cols[1])\n",
    "        wids=cols[0].split(',')\n",
    "        print(str(i)+\":\")\n",
    "        print(\"sentence list id is\",wids)\n",
    "        print(\"label is:\",label)\n",
    "        print(\"sentence list is:\",ids_to_str(wids))\n",
    "        print(\"-----------------------------------------\")\n",
    "        \n",
    "        if i==2:break\n",
    "        "
   ],
   "id": "ce91de7c4b7b0f39",
   "outputs": [
    {
     "name": "stdout",
     "output_type": "stream",
     "text": [
      "1:\n",
      "sentence list id is ['2625', '1636', '4169', '3725', '3650', '1691', '3637', '3507', '2096', '2892', '4290', '965']\n",
      "label is: 0\n",
      "sentence list is: 以 後 我 玩 微 博 還 有 什 麼 意 義\n",
      "-----------------------------------------\n",
      "2:\n",
      "sentence list id is ['4013', '2394', '2999', '232', '4098', '2424', '1077', '3606', '2465', '1318', '3486', '3374', '2457', '3121', '3121', '3121', '3121', '3121', '3121', '3725', '2436', '4071', '266', '3205', '1759', '3181', '3795', '2417', '1896', '1961', '2531', '3693', '3040', '553', '395', '2877', '2718', '3809', '1242', '2070', '4393', '3727', '3471', '3683', '2114', '3795', '2417', '2463', '2877', '2718', '1978', '2957', '3727', '3471', '3980', '3507', '4296', '96', '553', '3651', '4338', '2227', '830', '3121', '2524', '1077', '913', '3795', '2417', '1237', '2577', '3795', '2417', '3374', '2382', '1642', '4296', '1498', '2329', '4340', '4340', '4340', '4340', '4340', '4340', '1047']\n",
      "label is: 1\n",
      "sentence list is: T M D 权 志 龙 不 能 这 么 死 蠢 啊 ! ! ! ! ! ! 玩 之 前 就 老 觉 得 自 己 会 输 然 后 拿 那 个 锅 子 练 习 遮 住 头 . 结 果 自 己 用 锅 子 撞 到 头 . 还 有 脸 在 那 边 喊 好 疼 ! ( 不 过 自 己 都 被 自 己 蠢 的 满 脸 通 红 哈 哈 哈 哈 哈 哈 )\n",
      "-----------------------------------------\n"
     ]
    }
   ],
   "execution_count": 90
  },
  {
   "metadata": {
    "ExecuteTime": {
     "end_time": "2025-07-08T14:53:23.997485Z",
     "start_time": "2025-07-08T14:53:23.474638Z"
    }
   },
   "cell_type": "code",
   "source": [
    "vocab=load_vocab(os.path.join(data_root_path,'dict.txt'))\n",
    "\n",
    "class RumorDataset(paddle.io.Dataset):\n",
    "    def __init__(self, data_path):\n",
    "        self.data_path = data_path\n",
    "        self.all_data = []\n",
    "\n",
    "        with io.open(self.data_path, \"r\", encoding=\"utf-8\") as fin:\n",
    "            for line in fin:\n",
    "                cols = line.strip().split(\"\\t\")\n",
    "                if len(cols) != 2:\n",
    "                    sys.stderr.write(\"invalid input format!\\n\")\n",
    "                    continue\n",
    "                label = []\n",
    "                label.append(int(cols[1]))\n",
    "                wids = cols[0].split(\",\")\n",
    "                if len(wids) >= 150:\n",
    "                    wids = np.array(wids[:150]).astype('int64')\n",
    "                else:\n",
    "                    wids = np.concatenate([wids,[vocab[\"<pad>\"]]*(150-len(wids))]).astype('int64')\n",
    "                label = np.array(label).astype('int64')\n",
    "                self.all_data.append([wids, label])\n",
    "\n",
    "    def __getitem__(self, item):\n",
    "        data,label=self.all_data[item]\n",
    "        return data,label\n",
    "    \n",
    "    def __len__(self):\n",
    "        return len(self.all_data)\n",
    "    \n",
    "batch_size=32\n",
    "train_dataset=RumorDataset(os.path.join(data_root_path,'train_list.txt'))\n",
    "eval_dataset=RumorDataset(os.path.join(data_root_path,'eval_list.txt'))\n",
    "train_loader=paddle.io.DataLoader(train_dataset,return_list=True,batch_size=batch_size,shuffle=True,drop_last=True)\n",
    "eval_loader=paddle.io.DataLoader(eval_dataset,return_list=True,batch_size=batch_size,shuffle=True,drop_last=True)\n",
    "\n",
    "\n",
    "#check\n",
    "\n",
    "print(\"=====train dataset===========\")\n",
    "for data,label in train_dataset:\n",
    "    print(data)\n",
    "    print(np.array(data).shape)\n",
    "    print(label)\n",
    "    break\n",
    "print(\"=====eval dataset===========\")\n",
    "for data,label in eval_dataset:\n",
    "    print(data)\n",
    "    print(np.array(data).shape)\n",
    "    print(label)\n",
    "    break\n",
    "\n",
    "        \n",
    "                    \n",
    "                "
   ],
   "id": "81cd6a69827418a0",
   "outputs": [
    {
     "name": "stdout",
     "output_type": "stream",
     "text": [
      "=====train dataset===========\n",
      "[2625 1636 4169 3725 3650 1691 3637 3507 2096 2892 4290  965 4410 4410\n",
      " 4410 4410 4410 4410 4410 4410 4410 4410 4410 4410 4410 4410 4410 4410\n",
      " 4410 4410 4410 4410 4410 4410 4410 4410 4410 4410 4410 4410 4410 4410\n",
      " 4410 4410 4410 4410 4410 4410 4410 4410 4410 4410 4410 4410 4410 4410\n",
      " 4410 4410 4410 4410 4410 4410 4410 4410 4410 4410 4410 4410 4410 4410\n",
      " 4410 4410 4410 4410 4410 4410 4410 4410 4410 4410 4410 4410 4410 4410\n",
      " 4410 4410 4410 4410 4410 4410 4410 4410 4410 4410 4410 4410 4410 4410\n",
      " 4410 4410 4410 4410 4410 4410 4410 4410 4410 4410 4410 4410 4410 4410\n",
      " 4410 4410 4410 4410 4410 4410 4410 4410 4410 4410 4410 4410 4410 4410\n",
      " 4410 4410 4410 4410 4410 4410 4410 4410 4410 4410 4410 4410 4410 4410\n",
      " 4410 4410 4410 4410 4410 4410 4410 4410 4410 4410]\n",
      "(150,)\n",
      "[0]\n",
      "=====eval dataset===========\n",
      "[ 159  484 3825 4059 1874 2329 2652 4139 1896 1218 1042  611  810 1829\n",
      "  189   23 2598 3154  233 2734 1237 2602 1160  611 1907   91 3507 1192\n",
      " 3667 2038 3154 1895 1990 3889 2739  301 1218 2465 3919 2684 3688 4399\n",
      " 1998 1946  411 1077 1394 3154  233 2734 1237 2602 1160  611 1907 1160\n",
      " 2696 2901 3341 2517  803  422  485 2329 2652 4139 1896 1178  721 1160\n",
      " 2696  721  611  983 1218  637  884  983 2382 1829 3786 3154 2751  484\n",
      " 2921 3727 1874 2751  484 2921 3727 1874 2751  484 2921 3727 1874 2751\n",
      "  484 2921 3727 1874 4410 4410 4410 4410 4410 4410 4410 4410 4410 4410\n",
      " 4410 4410 4410 4410 4410 4410 4410 4410 4410 4410 4410 4410 4410 4410\n",
      " 4410 4410 4410 4410 4410 4410 4410 4410 4410 4410 4410 4410 4410 4410\n",
      " 4410 4410 4410 4410 4410 4410 4410 4410 4410 4410]\n",
      "(150,)\n",
      "[0]\n"
     ]
    }
   ],
   "execution_count": 101
  },
  {
   "metadata": {
    "ExecuteTime": {
     "end_time": "2025-07-08T15:04:35.794554Z",
     "start_time": "2025-07-08T15:04:35.670852Z"
    }
   },
   "cell_type": "code",
   "source": [
    "import  paddle\n",
    "from  paddle.nn import Conv2D,Linear,Embedding\n",
    "from paddle import   to_tensor\n",
    "from paddle.nn import functional as F\n",
    "\n",
    "class LstmModel(paddle.nn.Layer):\n",
    "   def __init__(self):\n",
    "       super(LstmModel, self).__init__()\n",
    "       self.dict_dim=vocab[\"<pad>\"]\n",
    "       self.emb_dim=128\n",
    "       self.hid_dim=128\n",
    "       self.class_dim=2\n",
    "       self.embedding=Embedding(\n",
    "           self.dict_dim+1,self.emb_dim,\n",
    "           sparse=False)\n",
    "       self.fc1=Linear(self.emb_dim,self.hid_dim)\n",
    "       self.lstm=paddle.nn.LSTM(self.hid_dim,self.hid_dim)\n",
    "       self.fc2=Linear(19200,self.class_dim)\n",
    "       \n",
    "   def forward(self, inputs):\n",
    "        emb=self.embedding(inputs)\n",
    "        fc_1=self.fc1(emb)\n",
    "        x=self.lstm(fc_1)\n",
    "        x=paddle.reshape(x[0],[0,-1])\n",
    "        x=self.fc2(x) \n",
    "        x=paddle.nn.functional.softmax(x)\n",
    "        return  x\n",
    "   \n",
    "lstm=LstmModel()\n",
    "paddle.summary(lstm,(32,150),\"int64\")\n",
    "        "
   ],
   "id": "3ca78f6d5faf8913",
   "outputs": [
    {
     "name": "stdout",
     "output_type": "stream",
     "text": [
      "-----------------------------------------------------------------------------------------------------\n",
      " Layer (type)       Input Shape                       Output Shape                      Param #    \n",
      "=====================================================================================================\n",
      "  Embedding-8       [[32, 150]]                      [32, 150, 128]                     564,608    \n",
      "   Linear-14      [[32, 150, 128]]                   [32, 150, 128]                     16,512     \n",
      "    LSTM-8        [[32, 150, 128]]   [[32, 150, 128], [[1, 32, 128], [1, 32, 128]]]     132,096    \n",
      "   Linear-15       [[32, 19200]]                        [32, 2]                         38,402     \n",
      "=====================================================================================================\n",
      "Total params: 751,618\n",
      "Trainable params: 751,618\n",
      "Non-trainable params: 0\n",
      "-----------------------------------------------------------------------------------------------------\n",
      "Input size (MB): 0.02\n",
      "Forward/backward pass size (MB): 14.13\n",
      "Params size (MB): 2.87\n",
      "Estimated Total Size (MB): 17.01\n",
      "-----------------------------------------------------------------------------------------------------\n",
      "\n"
     ]
    },
    {
     "data": {
      "text/plain": [
       "{'total_params': 751618, 'trainable_params': 751618}"
      ]
     },
     "execution_count": 114,
     "metadata": {},
     "output_type": "execute_result"
    }
   ],
   "execution_count": 114
  },
  {
   "metadata": {
    "ExecuteTime": {
     "end_time": "2025-07-08T15:09:54.035613Z",
     "start_time": "2025-07-08T15:09:54.020605Z"
    }
   },
   "cell_type": "code",
   "source": [
    "def draw_process(title,color,iters,data,label):\n",
    "    plt.title(title,fontsize=24)\n",
    "    plt.xlabel('iter',fontsize=20)\n",
    "    plt.ylabel(label,fontsize=20)\n",
    "    plt.plot(iters,data,color=color,label=label)\n",
    "    plt.legend()\n",
    "    plt.grid()\n",
    "    plt.show()\n",
    "    "
   ],
   "id": "eef74d138bd0bed1",
   "outputs": [],
   "execution_count": 115
  },
  {
   "metadata": {
    "ExecuteTime": {
     "end_time": "2025-07-08T15:37:57.123835Z",
     "start_time": "2025-07-08T15:35:08.495770Z"
    }
   },
   "cell_type": "code",
   "source": [
    "def train(model):\n",
    "    model.train()\n",
    "    opt = paddle.optimizer.Adam(learning_rate=0.002, parameters=model.parameters())\n",
    "\n",
    "    steps = 0\n",
    "    Iters, total_loss, total_acc = [], [], []\n",
    "\n",
    "    for epoch in range(10):\n",
    "        for batch_id, data in enumerate(train_loader):\n",
    "            steps += 1\n",
    "            sent = data[0]\n",
    "            label = data[1]\n",
    "\n",
    "            logits = model(sent)\n",
    "            loss = paddle.nn.functional.cross_entropy(logits, label)\n",
    "            acc = paddle.metric.accuracy(logits, label.reshape([-1, 1]))\n",
    "\n",
    "            if batch_id % 50 == 0:\n",
    "                print(f\"epoch:{epoch}, batch_id:{batch_id}, loss:{float(loss.numpy()):.4f}, acc:{float(acc.numpy()):.4f}\")\n",
    "\n",
    "\n",
    "            # 记录训练过程\n",
    "            Iters.append(steps)\n",
    "            total_loss.append(float(loss.numpy()))\n",
    "            total_acc.append(float(acc.numpy()))\n",
    "\n",
    "\n",
    "            loss.backward()\n",
    "            opt.step()\n",
    "            opt.clear_grad()\n",
    "\n",
    "        # 验证\n",
    "        model.eval()\n",
    "        accuracies = []\n",
    "        losses = []\n",
    "\n",
    "        with paddle.no_grad():\n",
    "            for batch_id, data in enumerate(eval_loader):\n",
    "                sent = data[0]\n",
    "                label = data[1]\n",
    "\n",
    "                logits = model(sent)\n",
    "                loss = paddle.nn.functional.cross_entropy(logits, label)\n",
    "                acc = paddle.metric.accuracy(logits, label.reshape([-1, 1]))\n",
    "\n",
    "                accuracies.append(float(acc.numpy()))\n",
    "                losses.append(float(loss.numpy()))\n",
    "\n",
    "\n",
    "        avg_acc, avg_loss = np.mean(accuracies), np.mean(losses)\n",
    "        print(f\"[validation] accuracy: {avg_acc:.4f}, loss: {avg_loss:.4f}\")\n",
    "        model.train()\n",
    "\n",
    "    paddle.save(model.state_dict(), \"model_final.pdparams\")\n",
    "\n",
    "    draw_process(\"training loss\", \"red\", Iters, total_loss, \"training loss\")\n",
    "    draw_process(\"training acc\", \"green\", Iters, total_acc, \"training acc\")\n",
    "    \n",
    "    \n",
    "    \n",
    "    \n",
    "    \n",
    "model=LstmModel()\n",
    "train(model)\n",
    "        "
   ],
   "id": "21db7651d73cda46",
   "outputs": [
    {
     "name": "stdout",
     "output_type": "stream",
     "text": [
      "epoch:0, batch_id:0, loss:0.6916, acc:0.5938\n",
      "epoch:0, batch_id:50, loss:0.6554, acc:0.6562\n",
      "[validation] accuracy: 0.8389, loss: 0.4696\n",
      "epoch:1, batch_id:0, loss:0.3605, acc:0.9688\n",
      "epoch:1, batch_id:50, loss:0.4631, acc:0.8438\n",
      "[validation] accuracy: 0.8486, loss: 0.4524\n",
      "epoch:2, batch_id:0, loss:0.4243, acc:0.8750\n",
      "epoch:2, batch_id:50, loss:0.4652, acc:0.8438\n",
      "[validation] accuracy: 0.8582, loss: 0.4530\n",
      "epoch:3, batch_id:0, loss:0.4383, acc:0.8750\n",
      "epoch:3, batch_id:50, loss:0.3956, acc:0.9062\n",
      "[validation] accuracy: 0.8510, loss: 0.4530\n",
      "epoch:4, batch_id:0, loss:0.3771, acc:0.9375\n",
      "epoch:4, batch_id:50, loss:0.3448, acc:0.9688\n",
      "[validation] accuracy: 0.8005, loss: 0.5022\n",
      "epoch:5, batch_id:0, loss:0.3778, acc:0.9062\n",
      "epoch:5, batch_id:50, loss:0.4371, acc:0.8750\n",
      "[validation] accuracy: 0.8486, loss: 0.4554\n",
      "epoch:6, batch_id:0, loss:0.3759, acc:0.9375\n",
      "epoch:6, batch_id:50, loss:0.4035, acc:0.9062\n",
      "[validation] accuracy: 0.8558, loss: 0.4589\n",
      "epoch:7, batch_id:0, loss:0.3397, acc:0.9688\n",
      "epoch:7, batch_id:50, loss:0.4087, acc:0.9062\n",
      "[validation] accuracy: 0.8630, loss: 0.4451\n",
      "epoch:8, batch_id:0, loss:0.4066, acc:0.9062\n",
      "epoch:8, batch_id:50, loss:0.3140, acc:1.0000\n",
      "[validation] accuracy: 0.8630, loss: 0.4459\n",
      "epoch:9, batch_id:0, loss:0.3190, acc:1.0000\n",
      "epoch:9, batch_id:50, loss:0.3451, acc:0.9688\n",
      "[validation] accuracy: 0.8341, loss: 0.4714\n"
     ]
    },
    {
     "data": {
      "text/plain": [
       "<Figure size 640x480 with 1 Axes>"
      ],
      "image/png": "[encoded data removed]"
     },
     "metadata": {},
     "output_type": "display_data"
    },
    {
     "data": {
      "text/plain": [
       "<Figure size 640x480 with 1 Axes>"
      ],
      "image/png": "[encoded data removed]"
     },
     "metadata": {},
     "output_type": "display_data"
    }
   ],
   "execution_count": 127
  },
  {
   "metadata": {
    "ExecuteTime": {
     "end_time": "2025-07-08T15:43:49.411074Z",
     "start_time": "2025-07-08T15:43:48.166954Z"
    }
   },
   "cell_type": "code",
   "source": [
    "model_state_dict = paddle.load(\"model_final.pdparams\")\n",
    "model=LstmModel()\n",
    "model.set_state_dict(model_state_dict)\n",
    "model.eval()\n",
    "accuracies= []\n",
    "losses=[]\n",
    "for batch_id,data in enumerate(eval_loader):\n",
    "    sent=data[0]\n",
    "    label=data[1]\n",
    "    \n",
    "    logits=model(sent)\n",
    "    loss=paddle.nn.functional.cross_entropy(logits,label)\n",
    "    acc=paddle.metric.accuracy(logits,label)\n",
    "    \n",
    "    accuracies.append(acc.numpy())\n",
    "    losses.append(loss.numpy())\n",
    "    \n",
    "avg_acc,avg_loss=np.mean(accuracies),np.mean(losses)\n",
    "print(\"eval_accuracy: %.5f, eval_loss: %.5f\" % (avg_acc, avg_loss))"
   ],
   "id": "251ec13e6565bd8a",
   "outputs": [
    {
     "name": "stdout",
     "output_type": "stream",
     "text": [
      "eval_accuracy: 0.83654, eval_loss: 0.46989\n"
     ]
    }
   ],
   "execution_count": 129
  },
  {
   "metadata": {
    "ExecuteTime": {
     "end_time": "2025-07-08T15:49:26.292841Z",
     "start_time": "2025-07-08T15:49:26.179827Z"
    }
   },
   "cell_type": "code",
   "source": [
    "label_map = {0: '是', 1: '否'}\n",
    "\n",
    "model.set_state_dict(model_state_dict)\n",
    "model=LstmModel()\n",
    "model.set_state_dict(model_state_dict)\n",
    "model.eval()\n",
    "for batch_id,data in enumerate(eval_loader()):\n",
    "    sent=data[0]\n",
    "    results=model(sent)\n",
    "    \n",
    "    predictions=[]\n",
    "    for probs in results:\n",
    "        idx=np.argmax(probs)\n",
    "        labels=label_map[idx]\n",
    "        predictions.append(labels)\n",
    "        \n",
    "    for i,pre in enumerate(predictions):\n",
    "        print('数据:{} \\n\\n 是否谣言：{}'.format(ids_to_str(sent[0]),pre))\n",
    "        break\n",
    "    break\n",
    "    \n",
    "    "
   ],
   "id": "62543a1038ad8c38",
   "outputs": [
    {
     "name": "stdout",
     "output_type": "stream",
     "text": [
      "数据:【 紧 急 通 知 ！ 大 家 千 万 谨 慎 购 买 樱 桃 ！   】 今 年 樱 桃 里 寄 生 了 一 种 蛆 虫 ， 几 乎 大 部 分 的 樱 桃 里 面 都 有 。 实 验 方 法 ： 找 最 好 看 最 新 鲜 的 樱 桃 ， 放 透 明 玻 璃 杯 中 ， 倒 进 水 去 后 放 点 盐 ， 大 约 2 分 钟 就 会 看 到 这 些 蛆 虫 从 完 好 的 表 皮 往 外 钻 。 求 扩 散 ！ （ 转 ） 【 评 】 太 恶 心 了 ~ ~ 还 有 什 么 能 吃 的 ？ ！ 扩 散 ！ @ 李 小 朋 V   @ 摆 古 论 今 <pad> <pad> <pad> <pad> <pad> <pad> <pad> <pad> <pad> <pad> \n",
      "\n",
      " 是否谣言：是\n"
     ]
    }
   ],
   "execution_count": 133
  }
 ],
 "metadata": {
  "kernelspec": {
   "display_name": "Python 3",
   "language": "python",
   "name": "python3"
  },
  "language_info": {
   "codemirror_mode": {
    "name": "ipython",
    "version": 2
   },
   "file_extension": ".py",
   "mimetype": "text/x-python",
   "name": "python",
   "nbconvert_exporter": "python",
   "pygments_lexer": "ipython2",
   "version": "2.7.6"
  }
 },
 "nbformat": 4,
 "nbformat_minor": 5
}
